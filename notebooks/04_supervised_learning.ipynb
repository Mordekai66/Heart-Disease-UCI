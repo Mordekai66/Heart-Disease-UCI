{
 "cells": [
  {
   "cell_type": "markdown",
   "id": "034478fd-81e8-400e-ac19-f4f558d22547",
   "metadata": {
    "vscode": {
     "languageId": "plaintext"
    }
   },
   "source": [
    "# 4. Supervised Learning - Classification Models"
   ]
  },
  {
   "cell_type": "code",
   "execution_count": 1,
   "id": "7c140ec3-0cd4-44cc-aaf2-29992ebd41fe",
   "metadata": {},
   "outputs": [],
   "source": [
    "#Import libraries\n",
    "import pandas as pd\n",
    "import numpy as np\n",
    "import matplotlib.pyplot as plt\n",
    "from sklearn.model_selection import train_test_split\n",
    "from sklearn.linear_model import LogisticRegression\n",
    "from sklearn.tree import DecisionTreeClassifier\n",
    "from sklearn.ensemble import RandomForestClassifier\n",
    "from sklearn.svm import SVC\n",
    "from sklearn.metrics import (accuracy_score, precision_score, recall_score, f1_score, roc_auc_score,confusion_matrix, roc_curve, classification_report)"
   ]
  },
  {
   "cell_type": "code",
   "execution_count": 2,
   "id": "563d2a39-d3f0-4c25-9b86-2d62c9b9070a",
   "metadata": {},
   "outputs": [],
   "source": [
    "# Load daat set\n",
    "df = pd.read_csv('../data/heart_disease.csv')\n",
    "X = df.iloc[:, 0:7]\n",
    "y = df['target']"
   ]
  },
  {
   "cell_type": "code",
   "execution_count": 3,
   "id": "d34f1bcd-597e-492d-98ee-193d41ea0fbf",
   "metadata": {},
   "outputs": [
    {
     "data": {
      "text/html": [
       "<div>\n",
       "<style scoped>\n",
       "    .dataframe tbody tr th:only-of-type {\n",
       "        vertical-align: middle;\n",
       "    }\n",
       "\n",
       "    .dataframe tbody tr th {\n",
       "        vertical-align: top;\n",
       "    }\n",
       "\n",
       "    .dataframe thead th {\n",
       "        text-align: right;\n",
       "    }\n",
       "</style>\n",
       "<table border=\"1\" class=\"dataframe\">\n",
       "  <thead>\n",
       "    <tr style=\"text-align: right;\">\n",
       "      <th></th>\n",
       "      <th>thal</th>\n",
       "      <th>ca</th>\n",
       "      <th>cp</th>\n",
       "      <th>oldpeak</th>\n",
       "      <th>thalach</th>\n",
       "      <th>age</th>\n",
       "      <th>exang</th>\n",
       "    </tr>\n",
       "  </thead>\n",
       "  <tbody>\n",
       "    <tr>\n",
       "      <th>0</th>\n",
       "      <td>6.0</td>\n",
       "      <td>0.0</td>\n",
       "      <td>1</td>\n",
       "      <td>0.370968</td>\n",
       "      <td>0.603053</td>\n",
       "      <td>0.708333</td>\n",
       "      <td>0</td>\n",
       "    </tr>\n",
       "    <tr>\n",
       "      <th>1</th>\n",
       "      <td>3.0</td>\n",
       "      <td>3.0</td>\n",
       "      <td>4</td>\n",
       "      <td>0.241935</td>\n",
       "      <td>0.282443</td>\n",
       "      <td>0.791667</td>\n",
       "      <td>1</td>\n",
       "    </tr>\n",
       "    <tr>\n",
       "      <th>2</th>\n",
       "      <td>7.0</td>\n",
       "      <td>2.0</td>\n",
       "      <td>4</td>\n",
       "      <td>0.419355</td>\n",
       "      <td>0.442748</td>\n",
       "      <td>0.791667</td>\n",
       "      <td>1</td>\n",
       "    </tr>\n",
       "    <tr>\n",
       "      <th>3</th>\n",
       "      <td>3.0</td>\n",
       "      <td>0.0</td>\n",
       "      <td>3</td>\n",
       "      <td>0.564516</td>\n",
       "      <td>0.885496</td>\n",
       "      <td>0.166667</td>\n",
       "      <td>0</td>\n",
       "    </tr>\n",
       "    <tr>\n",
       "      <th>4</th>\n",
       "      <td>3.0</td>\n",
       "      <td>0.0</td>\n",
       "      <td>2</td>\n",
       "      <td>0.225806</td>\n",
       "      <td>0.770992</td>\n",
       "      <td>0.250000</td>\n",
       "      <td>0</td>\n",
       "    </tr>\n",
       "    <tr>\n",
       "      <th>...</th>\n",
       "      <td>...</td>\n",
       "      <td>...</td>\n",
       "      <td>...</td>\n",
       "      <td>...</td>\n",
       "      <td>...</td>\n",
       "      <td>...</td>\n",
       "      <td>...</td>\n",
       "    </tr>\n",
       "    <tr>\n",
       "      <th>298</th>\n",
       "      <td>7.0</td>\n",
       "      <td>0.0</td>\n",
       "      <td>1</td>\n",
       "      <td>0.193548</td>\n",
       "      <td>0.465649</td>\n",
       "      <td>0.333333</td>\n",
       "      <td>0</td>\n",
       "    </tr>\n",
       "    <tr>\n",
       "      <th>299</th>\n",
       "      <td>7.0</td>\n",
       "      <td>2.0</td>\n",
       "      <td>4</td>\n",
       "      <td>0.548387</td>\n",
       "      <td>0.534351</td>\n",
       "      <td>0.812500</td>\n",
       "      <td>0</td>\n",
       "    </tr>\n",
       "    <tr>\n",
       "      <th>300</th>\n",
       "      <td>7.0</td>\n",
       "      <td>1.0</td>\n",
       "      <td>4</td>\n",
       "      <td>0.193548</td>\n",
       "      <td>0.335878</td>\n",
       "      <td>0.583333</td>\n",
       "      <td>1</td>\n",
       "    </tr>\n",
       "    <tr>\n",
       "      <th>301</th>\n",
       "      <td>3.0</td>\n",
       "      <td>1.0</td>\n",
       "      <td>2</td>\n",
       "      <td>0.000000</td>\n",
       "      <td>0.786260</td>\n",
       "      <td>0.583333</td>\n",
       "      <td>0</td>\n",
       "    </tr>\n",
       "    <tr>\n",
       "      <th>302</th>\n",
       "      <td>3.0</td>\n",
       "      <td>0.0</td>\n",
       "      <td>3</td>\n",
       "      <td>0.000000</td>\n",
       "      <td>0.778626</td>\n",
       "      <td>0.187500</td>\n",
       "      <td>0</td>\n",
       "    </tr>\n",
       "  </tbody>\n",
       "</table>\n",
       "<p>303 rows × 7 columns</p>\n",
       "</div>"
      ],
      "text/plain": [
       "     thal   ca  cp   oldpeak   thalach       age  exang\n",
       "0     6.0  0.0   1  0.370968  0.603053  0.708333      0\n",
       "1     3.0  3.0   4  0.241935  0.282443  0.791667      1\n",
       "2     7.0  2.0   4  0.419355  0.442748  0.791667      1\n",
       "3     3.0  0.0   3  0.564516  0.885496  0.166667      0\n",
       "4     3.0  0.0   2  0.225806  0.770992  0.250000      0\n",
       "..    ...  ...  ..       ...       ...       ...    ...\n",
       "298   7.0  0.0   1  0.193548  0.465649  0.333333      0\n",
       "299   7.0  2.0   4  0.548387  0.534351  0.812500      0\n",
       "300   7.0  1.0   4  0.193548  0.335878  0.583333      1\n",
       "301   3.0  1.0   2  0.000000  0.786260  0.583333      0\n",
       "302   3.0  0.0   3  0.000000  0.778626  0.187500      0\n",
       "\n",
       "[303 rows x 7 columns]"
      ]
     },
     "execution_count": 3,
     "metadata": {},
     "output_type": "execute_result"
    }
   ],
   "source": [
    "X"
   ]
  },
  {
   "cell_type": "code",
   "execution_count": 4,
   "id": "2339d0e9-1d88-4a77-8e01-9e47e908c53f",
   "metadata": {},
   "outputs": [],
   "source": [
    "X_train, X_test, y_train, y_test = train_test_split(X, y, test_size=0.2, random_state=42)"
   ]
  },
  {
   "cell_type": "code",
   "execution_count": 5,
   "id": "371614b9-a6dc-4ad6-8cf7-fb1dc6cca1d1",
   "metadata": {},
   "outputs": [],
   "source": [
    "models = {}"
   ]
  },
  {
   "cell_type": "code",
   "execution_count": 6,
   "id": "6a1d3369-3e31-41ad-b508-f77d9f33fde6",
   "metadata": {},
   "outputs": [
    {
     "name": "stderr",
     "output_type": "stream",
     "text": [
      "D:\\python\\Lib\\site-packages\\sklearn\\linear_model\\_logistic.py:1256: FutureWarning: 'multi_class' was deprecated in version 1.5 and will be removed in 1.7. Use OneVsRestClassifier(LogisticRegression(..)) instead. Leave it to its default value to avoid this warning.\n",
      "  warnings.warn(\n"
     ]
    },
    {
     "name": "stdout",
     "output_type": "stream",
     "text": [
      "\n",
      "Accuracy (Accuracy): 0.5574\n",
      "Precision (Precision): 0.5555\n",
      "Recall (Recall): 0.5574\n",
      "F1: 0.4692\n",
      "ROC: 0.8383\n",
      "{'Logistic Regression': [0.5573770491803278, 0.5554708349218452, 0.5573770491803278, 0.46921675774134797, np.float64(0.8382791744212538)]}\n"
     ]
    },
    {
     "name": "stderr",
     "output_type": "stream",
     "text": [
      "D:\\python\\Lib\\site-packages\\sklearn\\metrics\\_classification.py:1565: UndefinedMetricWarning: Precision is ill-defined and being set to 0.0 in labels with no predicted samples. Use `zero_division` parameter to control this behavior.\n",
      "  _warn_prf(average, modifier, f\"{metric.capitalize()} is\", len(result))\n"
     ]
    }
   ],
   "source": [
    "lr = LogisticRegression(random_state=42, multi_class='ovr')\n",
    "lr.fit(X_train, y_train)\n",
    "\n",
    "\n",
    "y_pred = lr.predict(X_test)\n",
    "y_proba = lr.predict_proba(X_test)\n",
    "\n",
    "accuracy = accuracy_score(y_test, y_pred)\n",
    "precision = precision_score(y_test, y_pred, average='weighted')\n",
    "recall = recall_score(y_test, y_pred, average='weighted')\n",
    "f1 = f1_score(y_test, y_pred, average='weighted')\n",
    "roc_auc = roc_auc_score(y_test, y_proba, multi_class='ovr')\n",
    "\n",
    "models[\"Logistic Regression\"] = [accuracy, precision, recall, f1, roc_auc]\n",
    "print(f\"\\nAccuracy (Accuracy): {accuracy:.4f}\")\n",
    "print(f\"Precision (Precision): {precision:.4f}\")\n",
    "print(f\"Recall (Recall): {recall:.4f}\")\n",
    "print(f\"F1: {f1:.4f}\")\n",
    "print(f\"ROC: {roc_auc:.4f}\")\n",
    "print(models)"
   ]
  },
  {
   "cell_type": "code",
   "execution_count": 7,
   "id": "2fb891eb-99d4-4a9b-b17b-e85b9a88b817",
   "metadata": {},
   "outputs": [
    {
     "name": "stdout",
     "output_type": "stream",
     "text": [
      "\n",
      "Accuracy (Accuracy): 0.5246\n",
      "Precision (Precision): 0.4729\n",
      "Recall (Recall): 0.5246\n",
      "F1: 0.4966\n",
      "ROC: 0.5864\n",
      "{'Logistic Regression': [0.5573770491803278, 0.5554708349218452, 0.5573770491803278, 0.46921675774134797, np.float64(0.8382791744212538)], 'Decision Tree': [0.5245901639344263, 0.47292598112270245, 0.5245901639344263, 0.4966208608391804, np.float64(0.5864064083332621)]}\n"
     ]
    }
   ],
   "source": [
    "dt = DecisionTreeClassifier(random_state=42)\n",
    "dt.fit(X_train, y_train)\n",
    "\n",
    "\n",
    "y_pred = dt.predict(X_test)\n",
    "y_proba = dt.predict_proba(X_test)\n",
    "\n",
    "\n",
    "accuracy = accuracy_score(y_test, y_pred)\n",
    "precision = precision_score(y_test, y_pred, average='weighted')\n",
    "recall = recall_score(y_test, y_pred, average='weighted')\n",
    "f1 = f1_score(y_test, y_pred, average='weighted')\n",
    "roc_auc = roc_auc_score(y_test, y_proba, multi_class='ovr')\n",
    "\n",
    "models[\"Decision Tree\"] = [accuracy, precision, recall, f1, roc_auc]\n",
    "print(f\"\\nAccuracy (Accuracy): {accuracy:.4f}\")\n",
    "print(f\"Precision (Precision): {precision:.4f}\")\n",
    "print(f\"Recall (Recall): {recall:.4f}\")\n",
    "print(f\"F1: {f1:.4f}\")\n",
    "print(f\"ROC: {roc_auc:.4f}\")\n",
    "print(models)"
   ]
  },
  {
   "cell_type": "code",
   "execution_count": 8,
   "id": "62661a61-bec7-439d-aea4-83492344ae69",
   "metadata": {},
   "outputs": [
    {
     "name": "stdout",
     "output_type": "stream",
     "text": [
      "\n",
      "Accuracy (Accuracy): 0.5410\n",
      "Precision (Precision): 0.5259\n",
      "Recall (Recall): 0.5410\n",
      "F1: 0.5159\n",
      "ROC: 0.7617\n",
      "{'Logistic Regression': [0.5573770491803278, 0.5554708349218452, 0.5573770491803278, 0.46921675774134797, np.float64(0.8382791744212538)], 'Decision Tree': [0.5245901639344263, 0.47292598112270245, 0.5245901639344263, 0.4966208608391804, np.float64(0.5864064083332621)], 'Random Forest': [0.5409836065573771, 0.5259402121504339, 0.5409836065573771, 0.5158801126014241, np.float64(0.7616878300019343)]}\n"
     ]
    }
   ],
   "source": [
    "rf = RandomForestClassifier(random_state=42)\n",
    "rf.fit(X_train, y_train)\n",
    "\n",
    "y_pred = rf.predict(X_test)\n",
    "y_proba = rf.predict_proba(X_test)\n",
    "\n",
    "accuracy = accuracy_score(y_test, y_pred)\n",
    "precision = precision_score(y_test, y_pred, average='weighted')\n",
    "recall = recall_score(y_test, y_pred, average='weighted')\n",
    "f1 = f1_score(y_test, y_pred, average='weighted')\n",
    "roc_auc = roc_auc_score(y_test, y_proba, multi_class='ovr')\n",
    "\n",
    "models[\"Random Forest\"] = [accuracy, precision, recall, f1, roc_auc]\n",
    "print(f\"\\nAccuracy (Accuracy): {accuracy:.4f}\")\n",
    "print(f\"Precision (Precision): {precision:.4f}\")\n",
    "print(f\"Recall (Recall): {recall:.4f}\")\n",
    "print(f\"F1: {f1:.4f}\")\n",
    "print(f\"ROC: {roc_auc:.4f}\")\n",
    "print(models)"
   ]
  },
  {
   "cell_type": "code",
   "execution_count": 9,
   "id": "9dd2128b-3c49-43f5-9164-837f5f3a4830",
   "metadata": {},
   "outputs": [
    {
     "name": "stdout",
     "output_type": "stream",
     "text": [
      "\n",
      "Accuracy (Accuracy): 0.5410\n",
      "Precision (Precision): 0.3891\n",
      "Recall (Recall): 0.5410\n",
      "F1: 0.4418\n",
      "ROC: 0.7909\n",
      "{'Logistic Regression': [0.5573770491803278, 0.5554708349218452, 0.5573770491803278, 0.46921675774134797, np.float64(0.8382791744212538)], 'Decision Tree': [0.5245901639344263, 0.47292598112270245, 0.5245901639344263, 0.4966208608391804, np.float64(0.5864064083332621)], 'Random Forest': [0.5409836065573771, 0.5259402121504339, 0.5409836065573771, 0.5158801126014241, np.float64(0.7616878300019343)], 'Support Vector Machine (SVM)': [0.5409836065573771, 0.38907103825136613, 0.5409836065573771, 0.44183066900276613, np.float64(0.7908919802506139)]}\n"
     ]
    },
    {
     "name": "stderr",
     "output_type": "stream",
     "text": [
      "D:\\python\\Lib\\site-packages\\sklearn\\metrics\\_classification.py:1565: UndefinedMetricWarning: Precision is ill-defined and being set to 0.0 in labels with no predicted samples. Use `zero_division` parameter to control this behavior.\n",
      "  _warn_prf(average, modifier, f\"{metric.capitalize()} is\", len(result))\n"
     ]
    }
   ],
   "source": [
    "svm = SVC(probability=True, random_state=42)\n",
    "svm.fit(X_train, y_train)\n",
    "\n",
    "y_pred = svm.predict(X_test)\n",
    "y_proba = svm.predict_proba(X_test)\n",
    "\n",
    "accuracy = accuracy_score(y_test, y_pred)\n",
    "precision = precision_score(y_test, y_pred, average='weighted')\n",
    "recall = recall_score(y_test, y_pred, average='weighted')\n",
    "f1 = f1_score(y_test, y_pred, average='weighted')\n",
    "roc_auc = roc_auc_score(y_test, y_proba, multi_class='ovr')\n",
    "\n",
    "models[\"Support Vector Machine (SVM)\"] = [accuracy, precision, recall, f1, roc_auc]\n",
    "print(f\"\\nAccuracy (Accuracy): {accuracy:.4f}\")\n",
    "print(f\"Precision (Precision): {precision:.4f}\")\n",
    "print(f\"Recall (Recall): {recall:.4f}\")\n",
    "print(f\"F1: {f1:.4f}\")\n",
    "print(f\"ROC: {roc_auc:.4f}\")\n",
    "print(models)"
   ]
  },
  {
   "cell_type": "code",
   "execution_count": 14,
   "id": "807d2566-edd3-45e7-901e-7bbea2ba6972",
   "metadata": {},
   "outputs": [],
   "source": [
    "with open(\"../results/evaluation_metrics.txt\", \"w\") as f:\n",
    "    for key, value in models.items():\n",
    "        f.write(\"\\n\")\n",
    "        f.write(f'{key}:')\n",
    "        f.write(f\"\\nAccuracy: {value[0]}\\nPrecision: {value[1]}\\nRecall: {value[2]}\\nF1: {value[3]}\\nROC: {value[4]}\\n\")\n",
    "        f.write(\"----------------------------\")"
   ]
  }
 ],
 "metadata": {
  "kernelspec": {
   "display_name": "Python 3 (ipykernel)",
   "language": "python",
   "name": "python3"
  },
  "language_info": {
   "codemirror_mode": {
    "name": "ipython",
    "version": 3
   },
   "file_extension": ".py",
   "mimetype": "text/x-python",
   "name": "python",
   "nbconvert_exporter": "python",
   "pygments_lexer": "ipython3",
   "version": "3.13.3"
  }
 },
 "nbformat": 4,
 "nbformat_minor": 5
}
